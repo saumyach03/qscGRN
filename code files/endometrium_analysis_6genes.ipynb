{
 "cells": [
  {
   "cell_type": "code",
   "execution_count": 10,
   "id": "8ad9385e-4c54-42c5-b5b1-2776d201dcbc",
   "metadata": {},
   "outputs": [],
   "source": [
    "import os\n",
    "import sys\n",
    "sys.path.append(r\"/Users/nyu/Desktop/github/QuantumGRN\")\n",
    "import numpy as np\n",
    "import pandas as pd"
   ]
  },
  {
   "cell_type": "code",
   "execution_count": 19,
   "id": "9b8acd5b-78ba-4173-82ad-ae9ccb067fe0",
   "metadata": {},
   "outputs": [],
   "source": [
    "filename=\"/Users/nyu/Downloads/endo.csv\"\n",
    "df = pd.read_csv(filename)"
   ]
  },
  {
   "cell_type": "code",
   "execution_count": 20,
   "id": "449def63",
   "metadata": {},
   "outputs": [
    {
     "data": {
      "text/html": [
       "<div>\n",
       "<style scoped>\n",
       "    .dataframe tbody tr th:only-of-type {\n",
       "        vertical-align: middle;\n",
       "    }\n",
       "\n",
       "    .dataframe tbody tr th {\n",
       "        vertical-align: top;\n",
       "    }\n",
       "\n",
       "    .dataframe thead th {\n",
       "        text-align: right;\n",
       "    }\n",
       "</style>\n",
       "<table border=\"1\" class=\"dataframe\">\n",
       "  <thead>\n",
       "    <tr style=\"text-align: right;\">\n",
       "      <th></th>\n",
       "      <th>genes</th>\n",
       "      <th>1772158101_C01_A3</th>\n",
       "      <th>1772158101_C03_A1</th>\n",
       "      <th>1772158101_C04_A9</th>\n",
       "      <th>1772158101_C05_A8</th>\n",
       "      <th>1772158101_C07_B3</th>\n",
       "      <th>1772158101_C08_B2</th>\n",
       "      <th>1772158101_C09_B1</th>\n",
       "      <th>1772158101_C10_B9</th>\n",
       "      <th>1772158101_C11_B8</th>\n",
       "      <th>...</th>\n",
       "      <th>1782163197_C86_G5</th>\n",
       "      <th>1782163197_C87_G4</th>\n",
       "      <th>1782163197_C88_G12</th>\n",
       "      <th>1782163197_C90_G10</th>\n",
       "      <th>1782163197_C91_H6</th>\n",
       "      <th>1782163197_C92_H5</th>\n",
       "      <th>1782163197_C93_H4</th>\n",
       "      <th>1782163197_C94_H12</th>\n",
       "      <th>1782163197_C95_H11</th>\n",
       "      <th>1782163197_C96_H10</th>\n",
       "    </tr>\n",
       "  </thead>\n",
       "  <tbody>\n",
       "    <tr>\n",
       "      <th>0</th>\n",
       "      <td>5_8S_rRNA</td>\n",
       "      <td>0</td>\n",
       "      <td>0</td>\n",
       "      <td>0</td>\n",
       "      <td>0</td>\n",
       "      <td>0</td>\n",
       "      <td>0</td>\n",
       "      <td>0</td>\n",
       "      <td>0</td>\n",
       "      <td>0</td>\n",
       "      <td>...</td>\n",
       "      <td>0</td>\n",
       "      <td>0</td>\n",
       "      <td>0</td>\n",
       "      <td>0</td>\n",
       "      <td>0</td>\n",
       "      <td>0</td>\n",
       "      <td>0</td>\n",
       "      <td>0</td>\n",
       "      <td>0</td>\n",
       "      <td>0</td>\n",
       "    </tr>\n",
       "    <tr>\n",
       "      <th>1</th>\n",
       "      <td>5S_rRNA</td>\n",
       "      <td>0</td>\n",
       "      <td>0</td>\n",
       "      <td>0</td>\n",
       "      <td>0</td>\n",
       "      <td>0</td>\n",
       "      <td>0</td>\n",
       "      <td>0</td>\n",
       "      <td>0</td>\n",
       "      <td>0</td>\n",
       "      <td>...</td>\n",
       "      <td>0</td>\n",
       "      <td>0</td>\n",
       "      <td>0</td>\n",
       "      <td>0</td>\n",
       "      <td>0</td>\n",
       "      <td>0</td>\n",
       "      <td>0</td>\n",
       "      <td>0</td>\n",
       "      <td>0</td>\n",
       "      <td>0</td>\n",
       "    </tr>\n",
       "    <tr>\n",
       "      <th>2</th>\n",
       "      <td>7SK</td>\n",
       "      <td>0</td>\n",
       "      <td>0</td>\n",
       "      <td>0</td>\n",
       "      <td>6</td>\n",
       "      <td>0</td>\n",
       "      <td>3</td>\n",
       "      <td>0</td>\n",
       "      <td>0</td>\n",
       "      <td>0</td>\n",
       "      <td>...</td>\n",
       "      <td>0</td>\n",
       "      <td>0</td>\n",
       "      <td>28</td>\n",
       "      <td>0</td>\n",
       "      <td>0</td>\n",
       "      <td>52</td>\n",
       "      <td>3</td>\n",
       "      <td>80</td>\n",
       "      <td>0</td>\n",
       "      <td>0</td>\n",
       "    </tr>\n",
       "    <tr>\n",
       "      <th>3</th>\n",
       "      <td>A1BG</td>\n",
       "      <td>0</td>\n",
       "      <td>0</td>\n",
       "      <td>0</td>\n",
       "      <td>0</td>\n",
       "      <td>0</td>\n",
       "      <td>0</td>\n",
       "      <td>0</td>\n",
       "      <td>0</td>\n",
       "      <td>0</td>\n",
       "      <td>...</td>\n",
       "      <td>0</td>\n",
       "      <td>0</td>\n",
       "      <td>0</td>\n",
       "      <td>0</td>\n",
       "      <td>0</td>\n",
       "      <td>0</td>\n",
       "      <td>0</td>\n",
       "      <td>0</td>\n",
       "      <td>0</td>\n",
       "      <td>0</td>\n",
       "    </tr>\n",
       "    <tr>\n",
       "      <th>4</th>\n",
       "      <td>A1BG-AS1</td>\n",
       "      <td>0</td>\n",
       "      <td>0</td>\n",
       "      <td>0</td>\n",
       "      <td>0</td>\n",
       "      <td>0</td>\n",
       "      <td>0</td>\n",
       "      <td>0</td>\n",
       "      <td>0</td>\n",
       "      <td>0</td>\n",
       "      <td>...</td>\n",
       "      <td>0</td>\n",
       "      <td>0</td>\n",
       "      <td>0</td>\n",
       "      <td>0</td>\n",
       "      <td>0</td>\n",
       "      <td>0</td>\n",
       "      <td>0</td>\n",
       "      <td>0</td>\n",
       "      <td>0</td>\n",
       "      <td>0</td>\n",
       "    </tr>\n",
       "    <tr>\n",
       "      <th>5</th>\n",
       "      <td>A1CF</td>\n",
       "      <td>0</td>\n",
       "      <td>0</td>\n",
       "      <td>0</td>\n",
       "      <td>0</td>\n",
       "      <td>0</td>\n",
       "      <td>0</td>\n",
       "      <td>0</td>\n",
       "      <td>0</td>\n",
       "      <td>0</td>\n",
       "      <td>...</td>\n",
       "      <td>0</td>\n",
       "      <td>0</td>\n",
       "      <td>0</td>\n",
       "      <td>0</td>\n",
       "      <td>0</td>\n",
       "      <td>0</td>\n",
       "      <td>0</td>\n",
       "      <td>0</td>\n",
       "      <td>0</td>\n",
       "      <td>0</td>\n",
       "    </tr>\n",
       "    <tr>\n",
       "      <th>6</th>\n",
       "      <td>A2M</td>\n",
       "      <td>0</td>\n",
       "      <td>0</td>\n",
       "      <td>1</td>\n",
       "      <td>0</td>\n",
       "      <td>0</td>\n",
       "      <td>0</td>\n",
       "      <td>0</td>\n",
       "      <td>0</td>\n",
       "      <td>0</td>\n",
       "      <td>...</td>\n",
       "      <td>67</td>\n",
       "      <td>0</td>\n",
       "      <td>0</td>\n",
       "      <td>0</td>\n",
       "      <td>5</td>\n",
       "      <td>0</td>\n",
       "      <td>148</td>\n",
       "      <td>762</td>\n",
       "      <td>0</td>\n",
       "      <td>1204</td>\n",
       "    </tr>\n",
       "    <tr>\n",
       "      <th>7</th>\n",
       "      <td>A2M-AS1</td>\n",
       "      <td>0</td>\n",
       "      <td>0</td>\n",
       "      <td>0</td>\n",
       "      <td>0</td>\n",
       "      <td>0</td>\n",
       "      <td>0</td>\n",
       "      <td>0</td>\n",
       "      <td>0</td>\n",
       "      <td>0</td>\n",
       "      <td>...</td>\n",
       "      <td>0</td>\n",
       "      <td>0</td>\n",
       "      <td>0</td>\n",
       "      <td>0</td>\n",
       "      <td>0</td>\n",
       "      <td>0</td>\n",
       "      <td>0</td>\n",
       "      <td>0</td>\n",
       "      <td>0</td>\n",
       "      <td>0</td>\n",
       "    </tr>\n",
       "    <tr>\n",
       "      <th>8</th>\n",
       "      <td>A2ML1</td>\n",
       "      <td>0</td>\n",
       "      <td>0</td>\n",
       "      <td>0</td>\n",
       "      <td>0</td>\n",
       "      <td>0</td>\n",
       "      <td>0</td>\n",
       "      <td>0</td>\n",
       "      <td>0</td>\n",
       "      <td>0</td>\n",
       "      <td>...</td>\n",
       "      <td>0</td>\n",
       "      <td>0</td>\n",
       "      <td>0</td>\n",
       "      <td>0</td>\n",
       "      <td>0</td>\n",
       "      <td>0</td>\n",
       "      <td>0</td>\n",
       "      <td>0</td>\n",
       "      <td>0</td>\n",
       "      <td>0</td>\n",
       "    </tr>\n",
       "    <tr>\n",
       "      <th>9</th>\n",
       "      <td>A2ML1-AS1</td>\n",
       "      <td>0</td>\n",
       "      <td>0</td>\n",
       "      <td>0</td>\n",
       "      <td>0</td>\n",
       "      <td>0</td>\n",
       "      <td>0</td>\n",
       "      <td>0</td>\n",
       "      <td>0</td>\n",
       "      <td>0</td>\n",
       "      <td>...</td>\n",
       "      <td>0</td>\n",
       "      <td>0</td>\n",
       "      <td>0</td>\n",
       "      <td>0</td>\n",
       "      <td>0</td>\n",
       "      <td>0</td>\n",
       "      <td>0</td>\n",
       "      <td>0</td>\n",
       "      <td>0</td>\n",
       "      <td>0</td>\n",
       "    </tr>\n",
       "  </tbody>\n",
       "</table>\n",
       "<p>10 rows × 2149 columns</p>\n",
       "</div>"
      ],
      "text/plain": [
       "       genes  1772158101_C01_A3  1772158101_C03_A1  1772158101_C04_A9  \\\n",
       "0  5_8S_rRNA                  0                  0                  0   \n",
       "1    5S_rRNA                  0                  0                  0   \n",
       "2        7SK                  0                  0                  0   \n",
       "3       A1BG                  0                  0                  0   \n",
       "4   A1BG-AS1                  0                  0                  0   \n",
       "5       A1CF                  0                  0                  0   \n",
       "6        A2M                  0                  0                  1   \n",
       "7    A2M-AS1                  0                  0                  0   \n",
       "8      A2ML1                  0                  0                  0   \n",
       "9  A2ML1-AS1                  0                  0                  0   \n",
       "\n",
       "   1772158101_C05_A8  1772158101_C07_B3  1772158101_C08_B2  1772158101_C09_B1  \\\n",
       "0                  0                  0                  0                  0   \n",
       "1                  0                  0                  0                  0   \n",
       "2                  6                  0                  3                  0   \n",
       "3                  0                  0                  0                  0   \n",
       "4                  0                  0                  0                  0   \n",
       "5                  0                  0                  0                  0   \n",
       "6                  0                  0                  0                  0   \n",
       "7                  0                  0                  0                  0   \n",
       "8                  0                  0                  0                  0   \n",
       "9                  0                  0                  0                  0   \n",
       "\n",
       "   1772158101_C10_B9  1772158101_C11_B8  ...  1782163197_C86_G5  \\\n",
       "0                  0                  0  ...                  0   \n",
       "1                  0                  0  ...                  0   \n",
       "2                  0                  0  ...                  0   \n",
       "3                  0                  0  ...                  0   \n",
       "4                  0                  0  ...                  0   \n",
       "5                  0                  0  ...                  0   \n",
       "6                  0                  0  ...                 67   \n",
       "7                  0                  0  ...                  0   \n",
       "8                  0                  0  ...                  0   \n",
       "9                  0                  0  ...                  0   \n",
       "\n",
       "   1782163197_C87_G4  1782163197_C88_G12  1782163197_C90_G10  \\\n",
       "0                  0                   0                   0   \n",
       "1                  0                   0                   0   \n",
       "2                  0                  28                   0   \n",
       "3                  0                   0                   0   \n",
       "4                  0                   0                   0   \n",
       "5                  0                   0                   0   \n",
       "6                  0                   0                   0   \n",
       "7                  0                   0                   0   \n",
       "8                  0                   0                   0   \n",
       "9                  0                   0                   0   \n",
       "\n",
       "   1782163197_C91_H6  1782163197_C92_H5  1782163197_C93_H4  \\\n",
       "0                  0                  0                  0   \n",
       "1                  0                  0                  0   \n",
       "2                  0                 52                  3   \n",
       "3                  0                  0                  0   \n",
       "4                  0                  0                  0   \n",
       "5                  0                  0                  0   \n",
       "6                  5                  0                148   \n",
       "7                  0                  0                  0   \n",
       "8                  0                  0                  0   \n",
       "9                  0                  0                  0   \n",
       "\n",
       "   1782163197_C94_H12  1782163197_C95_H11  1782163197_C96_H10  \n",
       "0                   0                   0                   0  \n",
       "1                   0                   0                   0  \n",
       "2                  80                   0                   0  \n",
       "3                   0                   0                   0  \n",
       "4                   0                   0                   0  \n",
       "5                   0                   0                   0  \n",
       "6                 762                   0                1204  \n",
       "7                   0                   0                   0  \n",
       "8                   0                   0                   0  \n",
       "9                   0                   0                   0  \n",
       "\n",
       "[10 rows x 2149 columns]"
      ]
     },
     "execution_count": 20,
     "metadata": {},
     "output_type": "execute_result"
    }
   ],
   "source": [
    "df = df.rename(columns={df.columns[0]: 'genes'})\n",
    "df.head(10)"
   ]
  },
  {
   "cell_type": "code",
   "execution_count": 21,
   "id": "32f70677",
   "metadata": {},
   "outputs": [
    {
     "name": "stdout",
     "output_type": "stream",
     "text": [
      "      genes  1772158101_C01_A3  1772158101_C03_A1  1772158101_C04_A9  \\\n",
      "15803   HGF                  0                  0                  0   \n",
      "19129   LIF                  0                 52                 12   \n",
      "20334   LOX                  0                  0                  0   \n",
      "23056  MMP1                  0                  0                  0   \n",
      "23078  MMP3                  0                  0                  0   \n",
      "51064  SPP1                  0                  0                  0   \n",
      "\n",
      "       1772158101_C05_A8  1772158101_C07_B3  1772158101_C08_B2  \\\n",
      "15803                  0                  0                  0   \n",
      "19129                  0                231                  0   \n",
      "20334                  0                 16                  0   \n",
      "23056                  0                  0                  0   \n",
      "23078                  0                  0                  0   \n",
      "51064                  0                  0                  0   \n",
      "\n",
      "       1772158101_C09_B1  1772158101_C10_B9  1772158101_C11_B8  ...  \\\n",
      "15803                  0                  0                  0  ...   \n",
      "19129                 23                  0                 24  ...   \n",
      "20334                  0                  0                  0  ...   \n",
      "23056                  0                  0                  0  ...   \n",
      "23078                  0                  0                  0  ...   \n",
      "51064                  0                  0                  0  ...   \n",
      "\n",
      "       1782163197_C86_G5  1782163197_C87_G4  1782163197_C88_G12  \\\n",
      "15803                  1                  0                   0   \n",
      "19129                  0                  0                   0   \n",
      "20334                193                  0                   0   \n",
      "23056                  0                  0                   0   \n",
      "23078                  0                  0                   0   \n",
      "51064                  0                 31                1367   \n",
      "\n",
      "       1782163197_C90_G10  1782163197_C91_H6  1782163197_C92_H5  \\\n",
      "15803                   0                  0                  0   \n",
      "19129                   0                  8                  0   \n",
      "20334                   0                  0                300   \n",
      "23056                  69                  0                  0   \n",
      "23078                   0                  0                  0   \n",
      "51064                   0                  0                  0   \n",
      "\n",
      "       1782163197_C93_H4  1782163197_C94_H12  1782163197_C95_H11  \\\n",
      "15803                  0                   0                   0   \n",
      "19129                  0                   0                   0   \n",
      "20334                390                   0                   0   \n",
      "23056                  0                   0                   0   \n",
      "23078                  0                   0                   0   \n",
      "51064                  0                   0                 379   \n",
      "\n",
      "       1782163197_C96_H10  \n",
      "15803                   0  \n",
      "19129                  12  \n",
      "20334                   0  \n",
      "23056                   0  \n",
      "23078                   0  \n",
      "51064                   1  \n",
      "\n",
      "[6 rows x 2149 columns]\n"
     ]
    }
   ],
   "source": [
    "target_values = [\"SPP1\", \"MMP1\", \"MMP3\", \"HGF\", \"LOX\", \"LIF\"]\n",
    "\n",
    "# Filter the DataFrame based on the values in the first cell\n",
    "filtered_df = df[df.iloc[:, 0].isin(target_values)]\n",
    "\n",
    "# Display the filtered DataFrame\n",
    "print(filtered_df)"
   ]
  },
  {
   "cell_type": "code",
   "execution_count": 14,
   "id": "d7f56782",
   "metadata": {},
   "outputs": [],
   "source": [
    "filtered_df.to_csv(\"endo_dataset.txt\", sep='\\t', index=False)"
   ]
  },
  {
   "cell_type": "code",
   "execution_count": 22,
   "id": "c4dd477a",
   "metadata": {},
   "outputs": [
    {
     "name": "stdout",
     "output_type": "stream",
     "text": [
      "(6, 2149)\n"
     ]
    }
   ],
   "source": [
    "df = filtered_df \n",
    "print(df.shape)"
   ]
  },
  {
   "cell_type": "code",
   "execution_count": 7,
   "id": "7a42375d",
   "metadata": {},
   "outputs": [],
   "source": [
    "import pandas as pd\n",
    "from scipy.stats import zscore\n",
    "# Extract the gene names\n",
    "\n",
    "genes = df['genes']\n",
    "df = df.drop(columns=['genes'])\n",
    "\n",
    "# Check for columns with all zeros and drop them\n",
    "df = df.loc[:, (df != 0).any()]\n",
    "\n",
    "# Fill missing values with 0 before normalization\n",
    "df.fillna(0, inplace=True)\n",
    "\n",
    "# Perform z-score normalization\n",
    "df_zscore = df.apply(zscore, axis=0)\n",
    "\n",
    "# Calculate Pearson residuals\n",
    "df_pearson_residual = df_zscore.apply(lambda x: (x - x.mean()) / x.std())\n",
    "\n",
    "# Add the gene names back as a column\n",
    "df_pearson_residual.insert(0, 'genes', genes)\n",
    "\n",
    "# Save the preprocessed data to a new file\n",
    "df_pearson_residual.to_csv(\"endo_pearsonresidual_9genes.txt\", sep='\\t', index=False)"
   ]
  },
  {
   "cell_type": "code",
   "execution_count": 8,
   "id": "b8c98631",
   "metadata": {},
   "outputs": [
    {
     "data": {
      "text/html": [
       "<div>\n",
       "<style scoped>\n",
       "    .dataframe tbody tr th:only-of-type {\n",
       "        vertical-align: middle;\n",
       "    }\n",
       "\n",
       "    .dataframe tbody tr th {\n",
       "        vertical-align: top;\n",
       "    }\n",
       "\n",
       "    .dataframe thead th {\n",
       "        text-align: right;\n",
       "    }\n",
       "</style>\n",
       "<table border=\"1\" class=\"dataframe\">\n",
       "  <thead>\n",
       "    <tr style=\"text-align: right;\">\n",
       "      <th></th>\n",
       "      <th>genes</th>\n",
       "      <th>1772158101_C01_A3</th>\n",
       "      <th>1772158101_C03_A1</th>\n",
       "      <th>1772158101_C04_A9</th>\n",
       "      <th>1772158101_C07_B3</th>\n",
       "      <th>1772158101_C09_B1</th>\n",
       "      <th>1772158101_C11_B8</th>\n",
       "      <th>1772158101_C16_C9</th>\n",
       "      <th>1772158101_C21_D1</th>\n",
       "      <th>1772158101_C23_D8</th>\n",
       "      <th>...</th>\n",
       "      <th>1782163197_C86_G5</th>\n",
       "      <th>1782163197_C87_G4</th>\n",
       "      <th>1782163197_C88_G12</th>\n",
       "      <th>1782163197_C90_G10</th>\n",
       "      <th>1782163197_C91_H6</th>\n",
       "      <th>1782163197_C92_H5</th>\n",
       "      <th>1782163197_C93_H4</th>\n",
       "      <th>1782163197_C94_H12</th>\n",
       "      <th>1782163197_C95_H11</th>\n",
       "      <th>1782163197_C96_H10</th>\n",
       "    </tr>\n",
       "  </thead>\n",
       "  <tbody>\n",
       "    <tr>\n",
       "      <th>15803</th>\n",
       "      <td>HGF</td>\n",
       "      <td>-0.333333</td>\n",
       "      <td>-0.333333</td>\n",
       "      <td>-0.478068</td>\n",
       "      <td>-0.402963</td>\n",
       "      <td>-0.333333</td>\n",
       "      <td>-0.333333</td>\n",
       "      <td>-0.333333</td>\n",
       "      <td>-0.333333</td>\n",
       "      <td>-0.611719</td>\n",
       "      <td>...</td>\n",
       "      <td>-0.355438</td>\n",
       "      <td>-0.333333</td>\n",
       "      <td>-0.333333</td>\n",
       "      <td>-0.333333</td>\n",
       "      <td>-0.333333</td>\n",
       "      <td>-0.469453</td>\n",
       "      <td>-0.558747</td>\n",
       "      <td>-0.333333</td>\n",
       "      <td>-0.502762</td>\n",
       "      <td>-0.363645</td>\n",
       "    </tr>\n",
       "    <tr>\n",
       "      <th>16404</th>\n",
       "      <td>HOXA10</td>\n",
       "      <td>-0.333333</td>\n",
       "      <td>-0.333333</td>\n",
       "      <td>-0.478068</td>\n",
       "      <td>-0.402963</td>\n",
       "      <td>-0.333333</td>\n",
       "      <td>-0.333333</td>\n",
       "      <td>-0.333333</td>\n",
       "      <td>-0.333333</td>\n",
       "      <td>-0.611719</td>\n",
       "      <td>...</td>\n",
       "      <td>-0.371119</td>\n",
       "      <td>-0.333333</td>\n",
       "      <td>-0.333333</td>\n",
       "      <td>-0.333333</td>\n",
       "      <td>-0.333333</td>\n",
       "      <td>-0.469453</td>\n",
       "      <td>-0.545319</td>\n",
       "      <td>-0.333333</td>\n",
       "      <td>-0.502762</td>\n",
       "      <td>-0.363645</td>\n",
       "    </tr>\n",
       "    <tr>\n",
       "      <th>16910</th>\n",
       "      <td>IGFBP3</td>\n",
       "      <td>2.666667</td>\n",
       "      <td>-0.333333</td>\n",
       "      <td>2.305974</td>\n",
       "      <td>-0.033702</td>\n",
       "      <td>-0.333333</td>\n",
       "      <td>-0.333333</td>\n",
       "      <td>-0.333333</td>\n",
       "      <td>-0.333333</td>\n",
       "      <td>-0.611719</td>\n",
       "      <td>...</td>\n",
       "      <td>-0.088860</td>\n",
       "      <td>-0.333333</td>\n",
       "      <td>-0.333333</td>\n",
       "      <td>-0.333333</td>\n",
       "      <td>-0.333333</td>\n",
       "      <td>2.370353</td>\n",
       "      <td>1.374860</td>\n",
       "      <td>2.666667</td>\n",
       "      <td>1.897041</td>\n",
       "      <td>-0.363645</td>\n",
       "    </tr>\n",
       "    <tr>\n",
       "      <th>17381</th>\n",
       "      <td>IL15</td>\n",
       "      <td>-0.333333</td>\n",
       "      <td>-0.333333</td>\n",
       "      <td>-0.478068</td>\n",
       "      <td>-0.402963</td>\n",
       "      <td>-0.333333</td>\n",
       "      <td>-0.333333</td>\n",
       "      <td>-0.333333</td>\n",
       "      <td>-0.333333</td>\n",
       "      <td>1.136800</td>\n",
       "      <td>...</td>\n",
       "      <td>-0.355438</td>\n",
       "      <td>-0.333333</td>\n",
       "      <td>-0.333333</td>\n",
       "      <td>-0.333333</td>\n",
       "      <td>-0.333333</td>\n",
       "      <td>-0.469453</td>\n",
       "      <td>-0.095487</td>\n",
       "      <td>-0.333333</td>\n",
       "      <td>-0.502762</td>\n",
       "      <td>-0.363645</td>\n",
       "    </tr>\n",
       "    <tr>\n",
       "      <th>19129</th>\n",
       "      <td>LIF</td>\n",
       "      <td>-0.333333</td>\n",
       "      <td>2.666667</td>\n",
       "      <td>1.040501</td>\n",
       "      <td>2.643434</td>\n",
       "      <td>2.666667</td>\n",
       "      <td>2.666667</td>\n",
       "      <td>2.666667</td>\n",
       "      <td>2.666667</td>\n",
       "      <td>0.475198</td>\n",
       "      <td>...</td>\n",
       "      <td>-0.371119</td>\n",
       "      <td>-0.333333</td>\n",
       "      <td>-0.333333</td>\n",
       "      <td>-0.333333</td>\n",
       "      <td>2.666667</td>\n",
       "      <td>-0.469453</td>\n",
       "      <td>-0.558747</td>\n",
       "      <td>-0.333333</td>\n",
       "      <td>-0.502762</td>\n",
       "      <td>2.657408</td>\n",
       "    </tr>\n",
       "  </tbody>\n",
       "</table>\n",
       "<p>5 rows × 1600 columns</p>\n",
       "</div>"
      ],
      "text/plain": [
       "        genes  1772158101_C01_A3  1772158101_C03_A1  1772158101_C04_A9  \\\n",
       "15803     HGF          -0.333333          -0.333333          -0.478068   \n",
       "16404  HOXA10          -0.333333          -0.333333          -0.478068   \n",
       "16910  IGFBP3           2.666667          -0.333333           2.305974   \n",
       "17381    IL15          -0.333333          -0.333333          -0.478068   \n",
       "19129     LIF          -0.333333           2.666667           1.040501   \n",
       "\n",
       "       1772158101_C07_B3  1772158101_C09_B1  1772158101_C11_B8  \\\n",
       "15803          -0.402963          -0.333333          -0.333333   \n",
       "16404          -0.402963          -0.333333          -0.333333   \n",
       "16910          -0.033702          -0.333333          -0.333333   \n",
       "17381          -0.402963          -0.333333          -0.333333   \n",
       "19129           2.643434           2.666667           2.666667   \n",
       "\n",
       "       1772158101_C16_C9  1772158101_C21_D1  1772158101_C23_D8  ...  \\\n",
       "15803          -0.333333          -0.333333          -0.611719  ...   \n",
       "16404          -0.333333          -0.333333          -0.611719  ...   \n",
       "16910          -0.333333          -0.333333          -0.611719  ...   \n",
       "17381          -0.333333          -0.333333           1.136800  ...   \n",
       "19129           2.666667           2.666667           0.475198  ...   \n",
       "\n",
       "       1782163197_C86_G5  1782163197_C87_G4  1782163197_C88_G12  \\\n",
       "15803          -0.355438          -0.333333           -0.333333   \n",
       "16404          -0.371119          -0.333333           -0.333333   \n",
       "16910          -0.088860          -0.333333           -0.333333   \n",
       "17381          -0.355438          -0.333333           -0.333333   \n",
       "19129          -0.371119          -0.333333           -0.333333   \n",
       "\n",
       "       1782163197_C90_G10  1782163197_C91_H6  1782163197_C92_H5  \\\n",
       "15803           -0.333333          -0.333333          -0.469453   \n",
       "16404           -0.333333          -0.333333          -0.469453   \n",
       "16910           -0.333333          -0.333333           2.370353   \n",
       "17381           -0.333333          -0.333333          -0.469453   \n",
       "19129           -0.333333           2.666667          -0.469453   \n",
       "\n",
       "       1782163197_C93_H4  1782163197_C94_H12  1782163197_C95_H11  \\\n",
       "15803          -0.558747           -0.333333           -0.502762   \n",
       "16404          -0.545319           -0.333333           -0.502762   \n",
       "16910           1.374860            2.666667            1.897041   \n",
       "17381          -0.095487           -0.333333           -0.502762   \n",
       "19129          -0.558747           -0.333333           -0.502762   \n",
       "\n",
       "       1782163197_C96_H10  \n",
       "15803           -0.363645  \n",
       "16404           -0.363645  \n",
       "16910           -0.363645  \n",
       "17381           -0.363645  \n",
       "19129            2.657408  \n",
       "\n",
       "[5 rows x 1600 columns]"
      ]
     },
     "execution_count": 8,
     "metadata": {},
     "output_type": "execute_result"
    }
   ],
   "source": [
    "df_pearson_residual.head()"
   ]
  },
  {
   "cell_type": "code",
   "execution_count": 9,
   "id": "a290952c",
   "metadata": {},
   "outputs": [],
   "source": [
    "final = df_pearson_residual"
   ]
  },
  {
   "cell_type": "code",
   "execution_count": 10,
   "id": "f0e5d774",
   "metadata": {},
   "outputs": [
    {
     "name": "stdout",
     "output_type": "stream",
     "text": [
      "2024-05-27 00:53:40 | I | The dataframe genes are ordered\n",
      "2024-05-27 00:53:40 | I | The observed probability `p_obs` is calculated\n",
      "2024-05-27 00:53:40 | I | Activation ratios are computed\n"
     ]
    }
   ],
   "source": [
    "# training qsgrn\n",
    "from qscgrn import *\n",
    "final = final.set_index('genes').T\n",
    "ncells, ngenes = final.shape\n",
    "final = qsc_order_gene(final)\n",
    "genes = final.columns.to_list()\n",
    "p_obs = qsc_distribution(final)\n",
    "activation = qsc_activation_ratios(final)"
   ]
  },
  {
   "cell_type": "code",
   "execution_count": 11,
   "id": "6fc8e57f",
   "metadata": {},
   "outputs": [
    {
     "name": "stdout",
     "output_type": "stream",
     "text": [
      "2024-05-27 00:53:42 | I | Theta series is initialized using zeros as method with activation values\n",
      "2024-05-27 00:53:42 | I | Edges for the QuantumGRN and quantum circuit are created for 6 genes\n",
      "2024-05-27 00:53:42 | I | The QuantumGRN model is been initialized with 6 genes and 1184 cells\n",
      "2024-05-27 00:53:42 | I | Starting the optimization for the QuantumGRN\n",
      "1000/1000 [==================================================] - 212s 212ms/step\n",
      "2024-05-27 00:57:14 | I | Optimization completed!!.. Due to the number of epochs reached\n"
     ]
    }
   ],
   "source": [
    "theta = theta_init(genes, activation_ratios=activation)\n",
    "edges = edges_init(genes)\n",
    "qgrn = model(ncells, genes, theta, edges, p_obs)\n",
    "qgrn.train()"
   ]
  },
  {
   "cell_type": "code",
   "execution_count": 12,
   "id": "f000f445",
   "metadata": {},
   "outputs": [
    {
     "name": "stdout",
     "output_type": "stream",
     "text": [
      "['LIF', 'SPP1', 'LOX', 'HGF', 'MMP3', 'MMP1']\n"
     ]
    }
   ],
   "source": [
    "print(genes)"
   ]
  },
  {
   "cell_type": "code",
   "execution_count": 13,
   "id": "ee2b3af0",
   "metadata": {},
   "outputs": [
    {
     "name": "stdout",
     "output_type": "stream",
     "text": [
      "2024-05-27 00:57:50 | I | Drawing the network representation of the qscGRN model and exporting to qgrn_endo_network.png file.\n"
     ]
    }
   ],
   "source": [
    "draw_network(genes, edges, qgrn.theta, filename=\"qgrn_endo_network.png\")"
   ]
  },
  {
   "cell_type": "code",
   "execution_count": 14,
   "id": "5b6dedfd-e255-4de9-a851-cc284f3e5d5e",
   "metadata": {},
   "outputs": [
    {
     "name": "stdout",
     "output_type": "stream",
     "text": [
      "2024-05-27 00:58:00 | I | Plotting the Observed distribution in a barplot and exporting to p_obs.svg file.\n"
     ]
    },
    {
     "data": {
      "image/png": "[encoded data removed]",
      "text/plain": [
       "<Figure size 162x288 with 1 Axes>"
      ]
     },
     "metadata": {
      "needs_background": "light"
     },
     "output_type": "display_data"
    }
   ],
   "source": [
    "mask = mini_hist(ngenes, p_obs, limit=0.01, ymax=0.5,\n",
    "                 title=\"Observed distribution\",\n",
    "                 filename=\"p_obs.svg\")"
   ]
  },
  {
   "cell_type": "code",
   "execution_count": 15,
   "id": "ee5c2d76-19f1-4b6b-8b57-25766bcd51f2",
   "metadata": {},
   "outputs": [],
   "source": [
    "p_init = qgrn.output_probabilities(drop_zero=True).reshape(2**ngenes,)"
   ]
  },
  {
   "cell_type": "code",
   "execution_count": 16,
   "id": "fb4d2175-e1d5-4c95-9915-3bc3bbf5b19d",
   "metadata": {},
   "outputs": [
    {
     "name": "stdout",
     "output_type": "stream",
     "text": [
      "2024-05-27 00:58:09 | I | Plotting the Comparison of distributions in a barplot and exporting to comparison_obs_init.svg file.\n"
     ]
    },
    {
     "data": {
      "image/png": "[encoded data removed]",
      "text/plain": [
       "<Figure size 324x288 with 1 Axes>"
      ]
     },
     "metadata": {
      "needs_background": "light"
     },
     "output_type": "display_data"
    }
   ],
   "source": [
    "comparison_hist(ngenes, p_obs, p_init, limit=0.01, ymax=0.8, mask=mask,\n",
    "                filename=\"comparison_obs_init.svg\", tags=[\"p^{obs}\", \"p^{ini}\"])"
   ]
  },
  {
   "cell_type": "code",
   "execution_count": 17,
   "id": "0b714501-11b3-40b5-b3c6-8997eff02d5e",
   "metadata": {},
   "outputs": [],
   "source": [
    "p_out = qgrn.p_out.reshape(2**ngenes,)"
   ]
  },
  {
   "cell_type": "code",
   "execution_count": 18,
   "id": "fd42e96f-9411-4fa5-baab-a9c43fc95996",
   "metadata": {},
   "outputs": [
    {
     "name": "stdout",
     "output_type": "stream",
     "text": [
      "2024-05-27 00:58:15 | I | Plotting the Comparison of distributions in a barplot and exporting to comparison_obs_out.svg file.\n"
     ]
    },
    {
     "data": {
      "image/png": "[encoded data removed]",
      "text/plain": [
       "<Figure size 324x288 with 1 Axes>"
      ]
     },
     "metadata": {
      "needs_background": "light"
     },
     "output_type": "display_data"
    }
   ],
   "source": [
    "comparison_hist(ngenes, p_obs, p_out, limit=0.01, ymax=0.8, mask=mask,\n",
    "                filename=\"comparison_obs_out.svg\")"
   ]
  },
  {
   "cell_type": "code",
   "execution_count": 19,
   "id": "4dec317a-4be9-4e9d-a5f7-a9c75cf5bdcb",
   "metadata": {},
   "outputs": [
    {
     "name": "stdout",
     "output_type": "stream",
     "text": [
      "2024-05-27 00:58:23 | I | Drawing the quantum circuit of the qscGRN model and saving to circuit_qscgrn.svg\n"
     ]
    }
   ],
   "source": [
    "p_qiskit = qgrn.run_qiskit(filename=\"circuit_qscgrn.svg\")"
   ]
  },
  {
   "cell_type": "code",
   "execution_count": 20,
   "id": "f9b11974-cf98-4423-9603-00b58ed1e6ac",
   "metadata": {},
   "outputs": [
    {
     "name": "stdout",
     "output_type": "stream",
     "text": [
      "2024-05-27 00:58:27 | I | Plotting the Comparison of distributions in a barplot and exporting to comparison_obs_qiskit.svg file.\n"
     ]
    },
    {
     "data": {
      "image/png": "[encoded data removed]",
      "text/plain": [
       "<Figure size 324x288 with 1 Axes>"
      ]
     },
     "metadata": {
      "needs_background": "light"
     },
     "output_type": "display_data"
    }
   ],
   "source": [
    "comparison_hist(ngenes, p_obs, p_qiskit, limit=0.01, ymax=0.6, mask=mask,\n",
    "                filename=\"comparison_obs_qiskit.svg\", tags=[\"p^{obs}\", \"p^{qiskit}\"])"
   ]
  },
  {
   "cell_type": "code",
   "execution_count": 22,
   "id": "68ce9ba6-6c76-4b5c-81e4-eecc84a1d3d9",
   "metadata": {},
   "outputs": [],
   "source": [
    "import matplotlib as mpt\n",
    "import matplotlib.pyplot as plt"
   ]
  },
  {
   "cell_type": "code",
   "execution_count": 23,
   "id": "181d4782-5266-4a10-8e64-8cd5149d2a3d",
   "metadata": {},
   "outputs": [
    {
     "data": {
      "image/png": "[encoded data removed]",
      "text/plain": [
       "<Figure size 432x288 with 1 Axes>"
      ]
     },
     "metadata": {
      "needs_background": "light"
     },
     "output_type": "display_data"
    }
   ],
   "source": [
    "plt.figure()\n",
    "plt.plot(qgrn.loss, 'r', label='$L_{kl} + L_{const}$')\n",
    "\n",
    "plt.title(\"Loss function\", fontsize=17)\n",
    "plt.xlabel(\"epoch (#)\", fontsize=14)\n",
    "plt.ylabel(\"value\", fontsize=14)\n",
    "plt.xticks([0, 200, 400, 600, 800, 1000, 1200], fontsize=12)\n",
    "plt.yticks([0, 0.01, 0.02, 0.03, 0.04, 0.05], fontsize=12)\n",
    "plt.gca().spines['top'].set_visible(False)\n",
    "plt.gca().spines['right'].set_visible(False)\n",
    "plt.legend(fontsize=12)\n",
    "plt.xlim([0, 1200])\n",
    "plt.ylim([0, 0.05])\n",
    "\n",
    "plt.savefig(\"loss_function.svg\", transparent=True, bbox_inches=\"tight\", facecolor ='w', dpi=700)"
   ]
  }
 ],
 "metadata": {
  "kernelspec": {
   "display_name": "Python 3 (ipykernel)",
   "language": "python",
   "name": "python3"
  },
  "language_info": {
   "codemirror_mode": {
    "name": "ipython",
    "version": 3
   },
   "file_extension": ".py",
   "mimetype": "text/x-python",
   "name": "python",
   "nbconvert_exporter": "python",
   "pygments_lexer": "ipython3",
   "version": "3.9.12"
  }
 },
 "nbformat": 4,
 "nbformat_minor": 5
}
